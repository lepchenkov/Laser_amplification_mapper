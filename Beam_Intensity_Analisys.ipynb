{
 "cells": [
  {
   "cell_type": "markdown",
   "metadata": {},
   "source": [
    "<h1>Transverse Laser Beam Intensity Distribution Analisys</h1>"
   ]
  },
  {
   "cell_type": "markdown",
   "metadata": {},
   "source": [
    "<p>During pulse amplification in real laser amplifiers transverse laser beam intensity distribution changes. </p>"
   ]
  },
  {
   "cell_type": "markdown",
   "metadata": {},
   "source": [
    "<p>Pulse intensity distribution before the amplification: </p>\n",
    "<img src=\"data/master_0001.jpeg\"  style=\"width:400px;\">\n",
    "<br>\n",
    "\n",
    "<p>Pulse intensity distribution after the amplification: </p>\n",
    "<img src=\"data/amplified_0001.jpeg\"  style=\"width:400px;\">"
   ]
  },
  {
   "cell_type": "markdown",
   "metadata": {},
   "source": [
    "<p>Both of this pictures are taken from CCD camera using Beamgage software. Also this distributions were exported as csv files. To process them i will use pandas library. </p>"
   ]
  },
  {
   "cell_type": "code",
   "execution_count": null,
   "metadata": {},
   "outputs": [],
   "source": []
  }
 ],
 "metadata": {
  "kernelspec": {
   "display_name": "Python 3",
   "language": "python",
   "name": "python3"
  },
  "language_info": {
   "codemirror_mode": {
    "name": "ipython",
    "version": 3
   },
   "file_extension": ".py",
   "mimetype": "text/x-python",
   "name": "python",
   "nbconvert_exporter": "python",
   "pygments_lexer": "ipython3",
   "version": "3.6.4"
  }
 },
 "nbformat": 4,
 "nbformat_minor": 2
}
